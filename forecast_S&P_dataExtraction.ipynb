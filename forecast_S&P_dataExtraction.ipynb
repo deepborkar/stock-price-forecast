{
 "cells": [
  {
   "cell_type": "markdown",
   "metadata": {},
   "source": [
    "# Extracting Stock Data from Yahoo Finance"
   ]
  },
  {
   "cell_type": "markdown",
   "metadata": {},
   "source": [
    "The first step before forecasting stock prices, we need to extract prices for all stocks.<br>\n",
    "To do this we need to know which stocks (tickers) are in each S&P 500 and S&P 400."
   ]
  },
  {
   "cell_type": "code",
   "execution_count": 26,
   "metadata": {},
   "outputs": [],
   "source": [
    "import pandas as pd\n",
    "import numpy as np\n",
    "import datetime as dt\n",
    "import pandas_datareader.data as web\n",
    "\n",
    "import bs4 as bs\n",
    "#import pickle\n",
    "import requests\n",
    "from tqdm import tqdm_notebook as tqdm"
   ]
  },
  {
   "cell_type": "markdown",
   "metadata": {},
   "source": [
    "The following function web-scrapes using the bs4 - Beautiful package to get all ticker data available in a tablular form on Wikipedia."
   ]
  },
  {
   "cell_type": "code",
   "execution_count": 27,
   "metadata": {},
   "outputs": [],
   "source": [
    "def save_sp_tickers(link, c, t):\n",
    "    resp = requests.get(link) #get webpage from link and store it in a variable\n",
    "    soup = bs.BeautifulSoup(resp.text, 'lxml') # convert into lxml to extract data that is needed\n",
    "    table = soup.find('table', {'class': 'wikitable sortable'})\n",
    "    tickers = []\n",
    "    comp_name = []\n",
    "    for row in table.findAll('tr')[1:]:\n",
    "        company = row.findAll('td')[c].text # Use column to get Company Name\n",
    "        ticker = row.findAll('td')[t].text # Use column to get Ticker\n",
    "        comp_name.append(company)\n",
    "        tickers.append(ticker)\n",
    "\n",
    "    return comp_name, tickers\n",
    "\n",
    "# Function that creates a Data\n",
    "def make_df(**kwargs): \n",
    "    return pd.DataFrame(kwargs) \n",
    "\n",
    "# Yahoo uses '-' instead of '.' in its ticker symbols \n",
    "def edit_ticker(col): # to edit according to Yahoo's rules\n",
    "    for i in range(len(col)):\n",
    "        col[i] = col[i].replace('.','-')"
   ]
  },
  {
   "cell_type": "code",
   "execution_count": 28,
   "metadata": {},
   "outputs": [],
   "source": [
    "#function call to Get ticker and company name \n",
    "sp400_c, sp400_t = save_sp_tickers('https://en.wikipedia.org/wiki/List_of_S%26P_400_companies', 0, 1)\n",
    "sp500_c, sp500_t = save_sp_tickers('http://en.wikipedia.org/wiki/List_of_S%26P_500_companies', 1, 0)\n",
    "\n",
    "# store it in a DataFrame\n",
    "sp400_info = make_df(Name=sp400_c, Ticker=sp400_t)\n",
    "sp500_info = make_df(Name=sp500_c, Ticker=sp500_t)\n",
    "\n",
    "# Remove extra'\\n' to tickers\n",
    "sp400_info.Name = sp400_info.Name.map(lambda x: x.rstrip('\\n'))\n",
    "sp500_info.Ticker = sp500_info.Ticker.map(lambda x: x.rstrip('\\n'))\n",
    "\n",
    "# function call to make tickers compatible with yahoo\n",
    "edit_ticker(sp500_info.Ticker)\n",
    "edit_ticker(sp400_info.Ticker)"
   ]
  },
  {
   "cell_type": "code",
   "execution_count": 54,
   "metadata": {},
   "outputs": [
    {
     "data": {
      "application/vnd.jupyter.widget-view+json": {
       "model_id": "1fab39d427fb466bbd42f99ea40c893f",
       "version_major": 2,
       "version_minor": 0
      },
      "text/plain": [
       "HBox(children=(IntProgress(value=0, max=505), HTML(value='')))"
      ]
     },
     "metadata": {},
     "output_type": "display_data"
    }
   ],
   "source": [
    "start = dt.datetime(1970, 1, 1) # Using 1970 as the base year\n",
    "end = dt.datetime(2019, 9, 29) # End Date is till Sept 2019\n",
    "\n",
    "# Function to get prices to a ticker from start date to end date\n",
    "def get_price(col): \n",
    "    df = pd.DataFrame()\n",
    "    for stock in tqdm(list(col)):\n",
    "        #print(stock, end = '')\n",
    "        df[stock] = web.DataReader(stock, 'yahoo', start, end)['Adj Close']\n",
    "    \n",
    "    return df\n",
    "\n",
    "#Get all 900 Companies Price data\n",
    "sp500_df = get_price(sp500_info.Ticker)"
   ]
  },
  {
   "cell_type": "code",
   "execution_count": 50,
   "metadata": {},
   "outputs": [],
   "source": [
    "sp400_info = sp400_info.drop(155, axis=0)"
   ]
  },
  {
   "cell_type": "code",
   "execution_count": 53,
   "metadata": {},
   "outputs": [
    {
     "data": {
      "application/vnd.jupyter.widget-view+json": {
       "model_id": "7565b94e6e7540c580eb6fea02c0340b",
       "version_major": 2,
       "version_minor": 0
      },
      "text/plain": [
       "HBox(children=(IntProgress(value=0, max=399), HTML(value='')))"
      ]
     },
     "metadata": {},
     "output_type": "display_data"
    }
   ],
   "source": [
    "sp400_df = get_price(sp400_info.Ticker)"
   ]
  },
  {
   "cell_type": "markdown",
   "metadata": {},
   "source": [
    "Once data has been downloaded, I store it in a csv so that I can use it from my local machine and I dont have to get it from the web everytime. "
   ]
  },
  {
   "cell_type": "code",
   "execution_count": 56,
   "metadata": {},
   "outputs": [],
   "source": [
    "sp500_df.to_csv('data/sp500.csv', encoding='utf-8')\n",
    "sp400_df.to_csv('data/sp400.csv', encoding='utf-8')"
   ]
  },
  {
   "cell_type": "markdown",
   "metadata": {},
   "source": [
    "This stores the Company Information that is - Company Name & Ticker for our reference if needed"
   ]
  },
  {
   "cell_type": "code",
   "execution_count": 57,
   "metadata": {},
   "outputs": [],
   "source": [
    "sp500_info.to_csv('data/sp500_info.csv', encoding='utf-8', index=False)\n",
    "sp400_info.to_csv('data/sp400_info.csv', encoding='utf-8', index=False)"
   ]
  }
 ],
 "metadata": {
  "kernelspec": {
   "display_name": "Python 3",
   "language": "python",
   "name": "python3"
  },
  "language_info": {
   "codemirror_mode": {
    "name": "ipython",
    "version": 3
   },
   "file_extension": ".py",
   "mimetype": "text/x-python",
   "name": "python",
   "nbconvert_exporter": "python",
   "pygments_lexer": "ipython3",
   "version": "3.7.3"
  }
 },
 "nbformat": 4,
 "nbformat_minor": 2
}
