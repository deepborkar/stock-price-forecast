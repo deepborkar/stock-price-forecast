{
 "cells": [
  {
   "cell_type": "markdown",
   "metadata": {},
   "source": [
    "# Forecasting Stock Prices using ARIMA Model - Deep Borkar"
   ]
  },
  {
   "cell_type": "markdown",
   "metadata": {},
   "source": [
    "### Please refer 'forecast_S&P_dataExtraction' file to extract stock price data. "
   ]
  },
  {
   "cell_type": "code",
   "execution_count": 1,
   "metadata": {},
   "outputs": [],
   "source": [
    "import pandas as pd\n",
    "import numpy as np\n",
    "import matplotlib.pyplot as plt\n",
    "import datetime as dt\n",
    "\n",
    "from statsmodels.tsa.stattools import adfuller\n",
    "from statsmodels.tsa.stattools import acf, pacf\n",
    "import statsmodels.api as sm\n",
    "from statsmodels.tsa.arima_model import ARIMA\n",
    "\n",
    "\n",
    "from tqdm import tqdm_notebook as tqdm\n",
    "import warnings\n",
    "warnings.filterwarnings('ignore')\n"
   ]
  },
  {
   "cell_type": "markdown",
   "metadata": {},
   "source": [
    "# 1. Data Loading"
   ]
  },
  {
   "cell_type": "markdown",
   "metadata": {},
   "source": [
    "Data has already been extracted and stored in a csv. <br>\n",
    "We read the data in seperate DataFrames."
   ]
  },
  {
   "cell_type": "code",
   "execution_count": 2,
   "metadata": {},
   "outputs": [],
   "source": [
    "sp500_info = pd.read_csv('data/sp500_info.csv', index_col=0)\n",
    "sp400_info = pd.read_csv('data/sp400_info.csv', index_col=0)"
   ]
  },
  {
   "cell_type": "code",
   "execution_count": 3,
   "metadata": {},
   "outputs": [],
   "source": [
    "sp500_data = pd.read_csv('data/sp500.csv', index_col=0)\n",
    "sp400_data = pd.read_csv('data/sp400.csv', index_col=0)\n",
    "\n",
    "sp500_data.index = pd.to_datetime(sp500_data.index, format='%Y-%m-%d')\n",
    "sp400_data.index = pd.to_datetime(sp400_data.index, format='%Y-%m-%d')"
   ]
  },
  {
   "cell_type": "markdown",
   "metadata": {},
   "source": [
    "Here I copy the data in a different variable to work with."
   ]
  },
  {
   "cell_type": "code",
   "execution_count": 4,
   "metadata": {},
   "outputs": [],
   "source": [
    "sp500 = sp500_data.copy()\n",
    "sp400 = sp400_data.copy()"
   ]
  },
  {
   "cell_type": "markdown",
   "metadata": {},
   "source": [
    "Get Shape of the Data"
   ]
  },
  {
   "cell_type": "code",
   "execution_count": 5,
   "metadata": {},
   "outputs": [
    {
     "name": "stdout",
     "output_type": "stream",
     "text": [
      "(12549, 505)\n",
      "(9304, 399)\n"
     ]
    }
   ],
   "source": [
    "print(sp500.shape)\n",
    "print(sp400.shape)"
   ]
  },
  {
   "cell_type": "markdown",
   "metadata": {},
   "source": [
    "# 2. Data Preprocessing"
   ]
  },
  {
   "cell_type": "markdown",
   "metadata": {},
   "source": [
    "These are the functions created to preprocess the Data. <br>\n",
    "The data needs to be cleaned before using it to forecast in a model."
   ]
  },
  {
   "cell_type": "code",
   "execution_count": 6,
   "metadata": {},
   "outputs": [],
   "source": [
    "def check_neg(df):\n",
    "    b = df[df < 0].any()\n",
    "    print(\"Column with negative value: \", end = '')\n",
    "    print(b[b == True].index)\n",
    "\n",
    "def simple_plot(ts):\n",
    "    plt.plot(ts)\n",
    "    plt.title(ts.name)\n",
    "    \n",
    "def check_stationarity(ts):\n",
    "    ts.dropna(inplace=True)\n",
    "    dftest = adfuller(ts, autolag='AIC')\n",
    "    dfresults = pd.Series(dftest[0:4], index=['Test Statistic','p-value','#Lags Used','Number of Observations Used'], dtype='object')\n",
    "    for key,value in dftest[4].items():\n",
    "        dfresults['Critical Value (%s)'%key] = value\n",
    "    dfresults['Stationarity @ 1%'] = (dfresults['Test Statistic'] < dfresults['Critical Value (1%)']).astype('bool')\n",
    "    dfresults['Stationarity @ 5%'] = (dfresults['Test Statistic'] < dfresults['Critical Value (5%)']).astype('bool')\n",
    "    dfresults['Stationarity @ 10%'] = (dfresults['Test Statistic'] < dfresults['Critical Value (10%)']).astype('bool')\n",
    "    return list(dfresults)\n",
    "\n",
    "def get_dfresults(df):\n",
    "    res = pd.DataFrame(index = ['Test Statistic','p-value','#Lags Used','Number of Observations Used',\\\n",
    "                                'Critical Value (1%)', 'Critical Value (5%)', 'Critical Value (10%)',\\\n",
    "                                'Stationary @ 1%', 'Stationary @ 5%', 'Stationary @ 10%'])\n",
    "    for t in list(df.columns):\n",
    "      res[t] = check_stationarity(df[t])\n",
    "        \n",
    "      return res"
   ]
  },
  {
   "cell_type": "markdown",
   "metadata": {},
   "source": [
    "#### 2.1 Removing Large Negative values in Yahoo Finance Data source"
   ]
  },
  {
   "cell_type": "markdown",
   "metadata": {},
   "source": [
    "There were 2 Stocks from Yahoo finance with high negative values which would skew our predictions. <br>\n",
    "So we check the data for those values and remove them."
   ]
  },
  {
   "cell_type": "code",
   "execution_count": 7,
   "metadata": {},
   "outputs": [
    {
     "name": "stdout",
     "output_type": "stream",
     "text": [
      "Column with negative value: Index(['SEE'], dtype='object')\n",
      "Column with negative value: Index(['AAN'], dtype='object')\n",
      "\n",
      "Removing negative values...\n",
      "Column with negative value: Index([], dtype='object')\n",
      "Column with negative value: Index([], dtype='object')\n"
     ]
    }
   ],
   "source": [
    "#check negative values\n",
    "check_neg(sp500)\n",
    "check_neg(sp400)\n",
    "\n",
    "print()\n",
    "print(\"Removing negative values...\")\n",
    "sp500['SEE'][sp500['SEE'] < 0] = np.nan\n",
    "sp400['AAN'][sp400['AAN'] < 0] = np.nan\n",
    "\n",
    "check_neg(sp500)\n",
    "check_neg(sp400)"
   ]
  },
  {
   "cell_type": "markdown",
   "metadata": {},
   "source": [
    "#### 2.2 Removing Duplicate Tickers from 900 Companies"
   ]
  },
  {
   "cell_type": "code",
   "execution_count": 8,
   "metadata": {},
   "outputs": [
    {
     "name": "stdout",
     "output_type": "stream",
     "text": [
      "Duplicate Tickers in S&P 500 and S&P 400: {'ATO', 'WRB', 'ROL', 'ODFL'}\n"
     ]
    }
   ],
   "source": [
    "def check_duplicates(l):\n",
    "    duplicates = set([x for x in l if l.count(x) > 1])\n",
    "    print(\"Duplicate Tickers in S&P 500 and S&P 400: \", end='')\n",
    "    print(duplicates)\n",
    "check_duplicates(list(sp500.columns) + list(sp400.columns))"
   ]
  },
  {
   "cell_type": "code",
   "execution_count": 9,
   "metadata": {},
   "outputs": [
    {
     "name": "stdout",
     "output_type": "stream",
     "text": [
      "Removing Duplicates...\n",
      "\n",
      "Duplicate Tickers in S&P 500 and S&P 400: {'WRB', 'ODFL'}\n"
     ]
    }
   ],
   "source": [
    "print(\"Removing Duplicates...\")\n",
    "sp500.drop('ATO', axis=1, inplace=True)\n",
    "sp400.drop('ROL', axis=1, inplace=True)\n",
    "print()\n",
    "\n",
    "check_duplicates(list(sp500.columns) + list(sp400.columns))"
   ]
  },
  {
   "cell_type": "markdown",
   "metadata": {},
   "source": [
    "# 3. Tool to Plot any stock to visualize price over time."
   ]
  },
  {
   "cell_type": "markdown",
   "metadata": {},
   "source": [
    "Enter any ticker and it will give you a plot of that stock. If ticker not in list, it will ask you to enter valid ticker again."
   ]
  },
  {
   "cell_type": "code",
   "execution_count": 10,
   "metadata": {},
   "outputs": [
    {
     "name": "stdout",
     "output_type": "stream",
     "text": [
      "Enter Ticker: ntfx\n",
      "Try Again\n",
      "Enter Ticker: nflx\n"
     ]
    },
    {
     "data": {
      "image/png": "[encoded data removed]",
      "text/plain": [
       "<Figure size 432x288 with 1 Axes>"
      ]
     },
     "metadata": {
      "needs_background": "light"
     },
     "output_type": "display_data"
    }
   ],
   "source": [
    "#Visualize stock price series\n",
    "def which_sp(t):\n",
    "    if t in sp500.columns:\n",
    "        return 'sp500'\n",
    "    elif t in sp400.columns:\n",
    "        return 'sp400'\n",
    "    else:\n",
    "        return None\n",
    "\n",
    "while(True):\n",
    "    ticker = (input(\"Enter Ticker: \")).upper()\n",
    "    if which_sp(ticker) == 'sp500':\n",
    "        simple_plot(sp500[ticker])\n",
    "        break\n",
    "    elif which_sp(ticker) == 'sp400':\n",
    "        simple_plot(sp400[ticker])\n",
    "        break\n",
    "    else:\n",
    "        print(\"Try Again\")\n",
    "        pass"
   ]
  },
  {
   "cell_type": "markdown",
   "metadata": {},
   "source": [
    "Above plot represents price for NetFlix over the years."
   ]
  },
  {
   "cell_type": "markdown",
   "metadata": {},
   "source": [
    "# 4. Check for Staionarity"
   ]
  },
  {
   "cell_type": "markdown",
   "metadata": {},
   "source": [
    "Here I have already tested all the 900 stocks for Stationarity but you can do it again by entering 1. If not then click 2."
   ]
  },
  {
   "cell_type": "code",
   "execution_count": 12,
   "metadata": {},
   "outputs": [
    {
     "name": "stdout",
     "output_type": "stream",
     "text": [
      "Enter 1 to run Dickey-Fuller Test on all stocks.(ETA: 8 mins)\n",
      "Enter 2 to Ignore.\n",
      "2\n",
      "Dickey-Fuller Test Results Read.\n"
     ]
    }
   ],
   "source": [
    "run_dflr = input(\"Enter 1 to run Dickey-Fuller Test on all stocks.(ETA: 8 mins)\\nEnter 2 to Ignore.\\n\")\n",
    "if run_dflr == '1':\n",
    "    \n",
    "\n",
    "    sp500_dfresults = get_dfresults(sp500)\n",
    "    print(\"S&500 Done.\")# 5 mins\n",
    "    sp400_dfresults = get_dfresults(sp400)\n",
    "    print(\"S&P400 Done.\")# 2:40 mins\n",
    "\n",
    "    sp500_dfresults.T.to_csv('test_results/sp500_dfresults.csv', encoding='utf-8')\n",
    "    sp400_dfresults.T.to_csv('test_results/sp400_dfresults.csv', encoding='utf-8')\n",
    "else:\n",
    "    pass\n",
    "\n",
    "sp500_dflr = pd.read_csv('test_results/sp500_dfresults.csv', index_col=0)\n",
    "sp400_dflr = pd.read_csv('test_results/sp400_dfresults.csv', index_col=0)\n",
    "\n",
    "print(\"Dickey-Fuller Test Results Read.\")"
   ]
  },
  {
   "cell_type": "markdown",
   "metadata": {},
   "source": [
    "There are stocks which are stationary but most stocks are not stationary. So we need to make them stationary"
   ]
  },
  {
   "cell_type": "markdown",
   "metadata": {},
   "source": [
    "# 5. Staionarize the Data"
   ]
  },
  {
   "cell_type": "markdown",
   "metadata": {},
   "source": [
    "One of the most common method of stationarizing the data is to take the log and differencing it with its lagged value."
   ]
  },
  {
   "cell_type": "code",
   "execution_count": 13,
   "metadata": {},
   "outputs": [],
   "source": [
    "#log\n",
    "\n",
    "log_sp500 = np.log(sp500)\n",
    "log_sp400 = np.log(sp400)\n",
    "\n",
    "log_diff_sp500 = log_sp500 - log_sp500.shift()\n",
    "log_diff_sp400 = log_sp400 - log_sp400.shift()\n"
   ]
  },
  {
   "cell_type": "markdown",
   "metadata": {},
   "source": [
    "Now we check for stationarity again after differencing "
   ]
  },
  {
   "cell_type": "code",
   "execution_count": 15,
   "metadata": {},
   "outputs": [
    {
     "name": "stdout",
     "output_type": "stream",
     "text": [
      "Enter 1 to run Dickey-Fuller Test on all log diff stocks.(ETA: 8 mins)\n",
      "Enter 2 to Ignore.\n",
      "2\n"
     ]
    }
   ],
   "source": [
    "run_dflr = input(\"Enter 1 to run Dickey-Fuller Test on all log diff stocks.(ETA: 8 mins)\\nEnter 2 to Ignore.\\n\")\n",
    "if run_dflr == '1':\n",
    "    \n",
    "    sp500_logdiff = get_dfresults(log_diff_sp500)\n",
    "    print(\"S&500 Done.\")# 5 mins\n",
    "    sp400_logdiff = get_dfresults(log_diff_sp400)\n",
    "    print(\"S&P400 Done.\")# 2:40 mins\n",
    "\n",
    "    sp500_logdiff.T.to_csv('test_results/sp500_logdiff.csv', encoding='utf-8')\n",
    "    sp400_logdiff.T.to_csv('test_results/sp400_logdiff.csv', encoding='utf-8')\n",
    "\n",
    "else:\n",
    "    pass\n",
    "\n",
    "sp500_logddflr = pd.read_csv('test_results/sp500_logdiff.csv', index_col=0)\n",
    "sp400_logdflr = pd.read_csv('test_results/sp400_logdiff.csv', index_col=0)"
   ]
  },
  {
   "cell_type": "markdown",
   "metadata": {},
   "source": [
    "As you can see below, after differencing all stocks reject the Null Hypothesis for Dickey-Fuller test. All stocks are stationary."
   ]
  },
  {
   "cell_type": "code",
   "execution_count": 16,
   "metadata": {},
   "outputs": [
    {
     "data": {
      "text/plain": [
       "0"
      ]
     },
     "execution_count": 16,
     "metadata": {},
     "output_type": "execute_result"
    }
   ],
   "source": [
    "sp500_logddflr[sp500_logddflr['Stationary @ 5%'] == False].any().sum()"
   ]
  },
  {
   "cell_type": "code",
   "execution_count": 17,
   "metadata": {},
   "outputs": [
    {
     "data": {
      "text/plain": [
       "0"
      ]
     },
     "execution_count": 17,
     "metadata": {},
     "output_type": "execute_result"
    }
   ],
   "source": [
    "sp400_logdflr[sp400_logdflr['Stationary @ 5%'] == False].any().sum()"
   ]
  },
  {
   "cell_type": "markdown",
   "metadata": {},
   "source": [
    "# 6. Functions used for Model Training and Testing"
   ]
  },
  {
   "cell_type": "code",
   "execution_count": 18,
   "metadata": {
    "scrolled": true
   },
   "outputs": [],
   "source": [
    "def split_data(t, ind):\n",
    "    ts = pd.DataFrame()\n",
    "    if ind == 'sp500':\n",
    "        ts['price'] = sp500[t]\n",
    "        ts['log'] = log_sp500[t]\n",
    "        ts['log_diff'] = log_diff_sp500[t]\n",
    "    elif ind == 'sp400':\n",
    "        ts['price'] = sp400[t]\n",
    "        ts['log'] = log_sp400[t]\n",
    "        ts['log_diff'] = log_diff_sp400[t]\n",
    "    train = ts[:'2019-06-01']\n",
    "    test = ts['2019-06-01':] \n",
    "    return train, test\n",
    "\n",
    "def get_parameters(ts):\n",
    "    res = sm.tsa.arma_order_select_ic(ts['log_diff'].dropna(), ic='aic', trend='nc')\n",
    "    p = res['aic_min_order'][0]\n",
    "    q = res['aic_min_order'][1]\n",
    "    return p,q\n",
    "\n",
    "def model_train(train, test, p, q):\n",
    "    predictions = list()\n",
    "    history = [x for x in train['log_diff'].dropna()]\n",
    "    for t in tqdm(range(len(test))):\n",
    "        # fit model\n",
    "        model = ARIMA(history, order=(p,1,q))\n",
    "        model_fit = model.fit()\n",
    "        # one step forecast\n",
    "        yhat = model_fit.forecast()[0]\n",
    "        # store forecast and ob\n",
    "        predictions.append(yhat)\n",
    "        history.append(test['log_diff'][t])\n",
    "\n",
    "    pred = pd.Series([float(i) for i in predictions], index = test.index)\n",
    "    check_prediction_diff(pred, test)\n",
    "    \n",
    "def check_prediction_diff(predict_diff, test):\n",
    "    predict_diff= predict_diff.cumsum().shift().fillna(0)\n",
    "    predict_base = pd.Series(np.ones(test.shape[0]) * np.log(test['price'])[0], index = test.index)\n",
    "    predict_log = predict_base.add(predict_diff,fill_value=0)\n",
    "    predict = np.exp(predict_log)\n",
    "\n",
    "    plt.plot(test['price'], label = \"Test Set\")\n",
    "    plt.plot(predict, color = 'red', label = \"Predict\")\n",
    "    plt.legend(loc= 'best')\n",
    "    plt.title('RMSE: %.4f'% np.sqrt(sum((predict-test['price'])**2)/len(test['price'])))\n",
    "    plt.show()"
   ]
  },
  {
   "cell_type": "markdown",
   "metadata": {},
   "source": [
    "# 7. Tool to Forecast any stock data using ARIMA Model "
   ]
  },
  {
   "cell_type": "markdown",
   "metadata": {},
   "source": [
    "Enter the ticker for the stock you want to forecast."
   ]
  },
  {
   "cell_type": "code",
   "execution_count": 64,
   "metadata": {},
   "outputs": [
    {
     "name": "stdout",
     "output_type": "stream",
     "text": [
      "Enter Ticker: TSLA\n",
      "Try Again\n",
      "Enter Ticker: tsla\n",
      "Try Again\n",
      "Enter Ticker: dis\n"
     ]
    }
   ],
   "source": [
    "while(True):\n",
    "    ticker = (input(\"Enter Ticker: \")).upper()\n",
    "    if which_sp(ticker) == 'sp500':\n",
    "        index = 'sp500'\n",
    "        break\n",
    "    elif which_sp(ticker) == 'sp400':\n",
    "        index = 'sp400'\n",
    "        break\n",
    "    else:\n",
    "        print(\"Try Again\")\n",
    "        pass"
   ]
  },
  {
   "cell_type": "markdown",
   "metadata": {},
   "source": [
    "Here we select Disney - DIS stock"
   ]
  },
  {
   "cell_type": "markdown",
   "metadata": {},
   "source": [
    "#### 7.1 Split Data into Train and Test"
   ]
  },
  {
   "cell_type": "markdown",
   "metadata": {},
   "source": [
    "Test data set contains latest 3 months data from June 2019 -  Sept 30, 2019"
   ]
  },
  {
   "cell_type": "code",
   "execution_count": 20,
   "metadata": {},
   "outputs": [],
   "source": [
    "#split data\n",
    "train, test = split_data(ticker, index)"
   ]
  },
  {
   "cell_type": "markdown",
   "metadata": {},
   "source": [
    "#### 7.2 Get p & q parameters for ARIMA using AIC order select pre built function"
   ]
  },
  {
   "cell_type": "code",
   "execution_count": 21,
   "metadata": {},
   "outputs": [],
   "source": [
    "#get parameters for p & q\n",
    "p, q = get_parameters(train)"
   ]
  },
  {
   "cell_type": "code",
   "execution_count": 22,
   "metadata": {},
   "outputs": [
    {
     "name": "stdout",
     "output_type": "stream",
     "text": [
      "Residual Order: (3,1)\n"
     ]
    }
   ],
   "source": [
    "print(\"Residual Order: (\"+str(p)+\",\"+str(q)+\")\")"
   ]
  },
  {
   "cell_type": "markdown",
   "metadata": {},
   "source": [
    "#### 7.3 AR Model "
   ]
  },
  {
   "cell_type": "markdown",
   "metadata": {},
   "source": [
    "Using AR Model gives a better RMSE as MA(q) parameter tries to smoothen the prediction.(Check next plot to see the difference)"
   ]
  },
  {
   "cell_type": "code",
   "execution_count": 23,
   "metadata": {
    "scrolled": true
   },
   "outputs": [
    {
     "data": {
      "application/vnd.jupyter.widget-view+json": {
       "model_id": "39d2a2c5d17e405588e99708870cf407",
       "version_major": 2,
       "version_minor": 0
      },
      "text/plain": [
       "HBox(children=(IntProgress(value=0, max=84), HTML(value='')))"
      ]
     },
     "metadata": {},
     "output_type": "display_data"
    },
    {
     "name": "stdout",
     "output_type": "stream",
     "text": [
      "\n"
     ]
    },
    {
     "data": {
      "image/png": "[encoded data removed]",
      "text/plain": [
       "<Figure size 432x288 with 1 Axes>"
      ]
     },
     "metadata": {
      "needs_background": "light"
     },
     "output_type": "display_data"
    }
   ],
   "source": [
    "model_train(train, test, p, 0)"
   ]
  },
  {
   "cell_type": "markdown",
   "metadata": {},
   "source": [
    "#### 7.4 ARIMA Model"
   ]
  },
  {
   "cell_type": "markdown",
   "metadata": {},
   "source": [
    "Here we use both p = 3 and q = 1parameters:"
   ]
  },
  {
   "cell_type": "code",
   "execution_count": 24,
   "metadata": {},
   "outputs": [
    {
     "data": {
      "application/vnd.jupyter.widget-view+json": {
       "model_id": "5c437796021140798d3ea8b70a4fc842",
       "version_major": 2,
       "version_minor": 0
      },
      "text/plain": [
       "HBox(children=(IntProgress(value=0, max=84), HTML(value='')))"
      ]
     },
     "metadata": {},
     "output_type": "display_data"
    },
    {
     "name": "stdout",
     "output_type": "stream",
     "text": [
      "\n"
     ]
    },
    {
     "data": {
      "image/png": "[encoded data removed]",
      "text/plain": [
       "<Figure size 432x288 with 1 Axes>"
      ]
     },
     "metadata": {
      "needs_background": "light"
     },
     "output_type": "display_data"
    }
   ],
   "source": [
    "model_train(train, test, p, q)"
   ]
  },
  {
   "cell_type": "code",
   "execution_count": 44,
   "metadata": {},
   "outputs": [
    {
     "data": {
      "text/html": [
       "<div>\n",
       "<style scoped>\n",
       "    .dataframe tbody tr th:only-of-type {\n",
       "        vertical-align: middle;\n",
       "    }\n",
       "\n",
       "    .dataframe tbody tr th {\n",
       "        vertical-align: top;\n",
       "    }\n",
       "\n",
       "    .dataframe thead th {\n",
       "        text-align: right;\n",
       "    }\n",
       "</style>\n",
       "<table border=\"1\" class=\"dataframe\">\n",
       "  <thead>\n",
       "    <tr style=\"text-align: right;\">\n",
       "      <th></th>\n",
       "      <th>price</th>\n",
       "      <th>log</th>\n",
       "      <th>log_diff</th>\n",
       "    </tr>\n",
       "    <tr>\n",
       "      <th>Date</th>\n",
       "      <th></th>\n",
       "      <th></th>\n",
       "      <th></th>\n",
       "    </tr>\n",
       "  </thead>\n",
       "  <tbody>\n",
       "    <tr>\n",
       "      <td>1970-01-02</td>\n",
       "      <td>0.276762</td>\n",
       "      <td>-1.284598</td>\n",
       "      <td>NaN</td>\n",
       "    </tr>\n",
       "    <tr>\n",
       "      <td>1970-01-05</td>\n",
       "      <td>0.268438</td>\n",
       "      <td>-1.315135</td>\n",
       "      <td>-0.030537</td>\n",
       "    </tr>\n",
       "    <tr>\n",
       "      <td>1970-01-06</td>\n",
       "      <td>0.263236</td>\n",
       "      <td>-1.334705</td>\n",
       "      <td>-0.019570</td>\n",
       "    </tr>\n",
       "    <tr>\n",
       "      <td>1970-01-07</td>\n",
       "      <td>0.269999</td>\n",
       "      <td>-1.309338</td>\n",
       "      <td>0.025367</td>\n",
       "    </tr>\n",
       "    <tr>\n",
       "      <td>1970-01-08</td>\n",
       "      <td>0.276762</td>\n",
       "      <td>-1.284598</td>\n",
       "      <td>0.024740</td>\n",
       "    </tr>\n",
       "    <tr>\n",
       "      <td>...</td>\n",
       "      <td>...</td>\n",
       "      <td>...</td>\n",
       "      <td>...</td>\n",
       "    </tr>\n",
       "    <tr>\n",
       "      <td>2019-05-24</td>\n",
       "      <td>131.186722</td>\n",
       "      <td>4.876622</td>\n",
       "      <td>0.000452</td>\n",
       "    </tr>\n",
       "    <tr>\n",
       "      <td>2019-05-28</td>\n",
       "      <td>131.018784</td>\n",
       "      <td>4.875341</td>\n",
       "      <td>-0.001281</td>\n",
       "    </tr>\n",
       "    <tr>\n",
       "      <td>2019-05-29</td>\n",
       "      <td>129.981491</td>\n",
       "      <td>4.867392</td>\n",
       "      <td>-0.007949</td>\n",
       "    </tr>\n",
       "    <tr>\n",
       "      <td>2019-05-30</td>\n",
       "      <td>130.603851</td>\n",
       "      <td>4.872169</td>\n",
       "      <td>0.004777</td>\n",
       "    </tr>\n",
       "    <tr>\n",
       "      <td>2019-05-31</td>\n",
       "      <td>130.445786</td>\n",
       "      <td>4.870958</td>\n",
       "      <td>-0.001211</td>\n",
       "    </tr>\n",
       "  </tbody>\n",
       "</table>\n",
       "<p>12465 rows × 3 columns</p>\n",
       "</div>"
      ],
      "text/plain": [
       "                 price       log  log_diff\n",
       "Date                                      \n",
       "1970-01-02    0.276762 -1.284598       NaN\n",
       "1970-01-05    0.268438 -1.315135 -0.030537\n",
       "1970-01-06    0.263236 -1.334705 -0.019570\n",
       "1970-01-07    0.269999 -1.309338  0.025367\n",
       "1970-01-08    0.276762 -1.284598  0.024740\n",
       "...                ...       ...       ...\n",
       "2019-05-24  131.186722  4.876622  0.000452\n",
       "2019-05-28  131.018784  4.875341 -0.001281\n",
       "2019-05-29  129.981491  4.867392 -0.007949\n",
       "2019-05-30  130.603851  4.872169  0.004777\n",
       "2019-05-31  130.445786  4.870958 -0.001211\n",
       "\n",
       "[12465 rows x 3 columns]"
      ]
     },
     "execution_count": 44,
     "metadata": {},
     "output_type": "execute_result"
    }
   ],
   "source": [
    "train"
   ]
  },
  {
   "cell_type": "markdown",
   "metadata": {},
   "source": [
    "# 8. Creating a Price Weighted Index using S&P500 Stocks of the 2018-2019 year."
   ]
  },
  {
   "cell_type": "markdown",
   "metadata": {},
   "source": [
    "The following function filters the data by selecting only 1 year Sept 2018 - Sept 2019 data and removing columns which have null values for this year."
   ]
  },
  {
   "cell_type": "code",
   "execution_count": 28,
   "metadata": {},
   "outputs": [],
   "source": [
    "def filter_index(df):\n",
    "    df = df.iloc[df.shape[0] - 252:,:]\n",
    "    drp = df.isnull().sum()\n",
    "    drp = drp[drp > 0]\n",
    "    df = df.drop(list(drp.index), axis=1)\n",
    "    return df\n",
    "\n",
    "sp500_index = filter_index(sp500)\n",
    "sp400_index = filter_index(sp400)"
   ]
  },
  {
   "cell_type": "markdown",
   "metadata": {},
   "source": [
    "As you can see below, there are no Null values in our 252 records (1 year trading days)"
   ]
  },
  {
   "cell_type": "code",
   "execution_count": 29,
   "metadata": {},
   "outputs": [
    {
     "data": {
      "text/plain": [
       "0"
      ]
     },
     "execution_count": 29,
     "metadata": {},
     "output_type": "execute_result"
    }
   ],
   "source": [
    "sp500_index.isnull().any().sum()"
   ]
  },
  {
   "cell_type": "code",
   "execution_count": 30,
   "metadata": {},
   "outputs": [
    {
     "data": {
      "text/plain": [
       "0"
      ]
     },
     "execution_count": 30,
     "metadata": {},
     "output_type": "execute_result"
    }
   ],
   "source": [
    "sp400_index.isnull().any().sum()"
   ]
  },
  {
   "cell_type": "markdown",
   "metadata": {},
   "source": [
    "#### 8.1 Creating the Price Weighted Index"
   ]
  },
  {
   "cell_type": "code",
   "execution_count": 130,
   "metadata": {},
   "outputs": [],
   "source": [
    "l5 = []\n",
    "for i in range(sp500_index.shape[0]): # Calculate mean of each day\n",
    "    l5.append(sp500_index.iloc[i].mean()) # Calculate mean of each day\n",
    "    \n",
    "ind5 = pd.DataFrame({'Average':l5}, index=sp500_index.index) # create DataFrame to store it\n",
    "\n",
    "ind5['Index'] = np.zeros(252) # Our index values \n",
    "ind5['Index'][0] = 2744.45 # Base Value for our index which is the day 1 \n",
    "\n",
    "for i in range(1, 252):\n",
    "    ind5['Index'][i] = (ind5['Average'][i] / ind5['Average'][i-1]) * ind5['Index'][i-1] \n",
    "    # So index value for a day= (Average(day 2) / Average(day 1)) * Index Value(day 1)"
   ]
  },
  {
   "cell_type": "markdown",
   "metadata": {},
   "source": [
    "#### 8.2 Check Stationarity for Index"
   ]
  },
  {
   "cell_type": "code",
   "execution_count": 131,
   "metadata": {},
   "outputs": [
    {
     "data": {
      "text/plain": [
       "[-0.9964512320439892,\n",
       " 0.7545564310947632,\n",
       " 0,\n",
       " 251,\n",
       " -3.4566744514553016,\n",
       " -2.8731248767783426,\n",
       " -2.5729436702592023,\n",
       " False,\n",
       " False,\n",
       " False]"
      ]
     },
     "execution_count": 131,
     "metadata": {},
     "output_type": "execute_result"
    }
   ],
   "source": [
    "check_stationarity(ind5['Index']) # Check Stationarity"
   ]
  },
  {
   "cell_type": "markdown",
   "metadata": {},
   "source": [
    "####  8.3 Differencing to Stationarize data and use it in the model"
   ]
  },
  {
   "cell_type": "code",
   "execution_count": 132,
   "metadata": {},
   "outputs": [],
   "source": [
    "ind5_log = np.log(ind5['Index'])\n",
    "ind5_diff  = ind5_log - ind5_log.shift() "
   ]
  },
  {
   "cell_type": "markdown",
   "metadata": {},
   "source": [
    "Data has been Stationarized."
   ]
  },
  {
   "cell_type": "code",
   "execution_count": 133,
   "metadata": {},
   "outputs": [
    {
     "data": {
      "text/plain": [
       "[-15.668140853160685,\n",
       " 1.5244687863938663e-28,\n",
       " 0,\n",
       " 250,\n",
       " -3.456780859712,\n",
       " -2.8731715065600003,\n",
       " -2.572968544,\n",
       " True,\n",
       " True,\n",
       " True]"
      ]
     },
     "execution_count": 133,
     "metadata": {},
     "output_type": "execute_result"
    }
   ],
   "source": [
    "check_stationarity(ind5_diff)"
   ]
  },
  {
   "cell_type": "markdown",
   "metadata": {},
   "source": [
    "####  8.4 Split data into Train and  test"
   ]
  },
  {
   "cell_type": "code",
   "execution_count": 134,
   "metadata": {},
   "outputs": [],
   "source": [
    "ind_df = pd.DataFrame({'Index': ind5['Index'], 'log':ind5_log, 'log_diff':ind5_diff})\n",
    "train_ind = ind_df[:'2019-06-01']\n",
    "test_ind = ind_df['2019-06-01':]"
   ]
  },
  {
   "cell_type": "code",
   "execution_count": 135,
   "metadata": {},
   "outputs": [],
   "source": [
    "sp500_ind =  web.DataReader('^GSPC', 'yahoo', '2019-06-03', '2019-09-30')['Adj Close']\n",
    "sp500_ind = pd.DataFrame({'price': sp500_ind})"
   ]
  },
  {
   "cell_type": "markdown",
   "metadata": {},
   "source": [
    "#### 8.5 Get Parameters for the Index data"
   ]
  },
  {
   "cell_type": "code",
   "execution_count": 136,
   "metadata": {},
   "outputs": [
    {
     "name": "stdout",
     "output_type": "stream",
     "text": [
      "Residual Order: (2,2)\n"
     ]
    }
   ],
   "source": [
    "p_i, q_i = get_parameters(train_ind)\n",
    "print(\"Residual Order: (\"+str(p_i)+\",\"+str(q_i)+\")\")"
   ]
  },
  {
   "cell_type": "markdown",
   "metadata": {},
   "source": [
    "#### 8.6 Run AR and ARIMA Model"
   ]
  },
  {
   "cell_type": "code",
   "execution_count": 137,
   "metadata": {},
   "outputs": [],
   "source": [
    "def model_train_i(train, test, p, q):\n",
    "    predictions = list()\n",
    "    history = [x for x in train['log_diff'].dropna()]\n",
    "    for t in tqdm(range(len(test))):\n",
    "        # fit model\n",
    "        model = ARIMA(history, order=(p,1,q))\n",
    "        model_fit = model.fit()\n",
    "        # one step forecast\n",
    "        yhat = model_fit.forecast()[0]\n",
    "        # store forecast and ob\n",
    "        predictions.append(yhat)\n",
    "        history.append(test['log_diff'][t])\n",
    "\n",
    "    pred = pd.Series([float(i) for i in predictions], index = test.index)\n",
    "    check_prediction_diff_i(pred, test)\n",
    "    \n",
    "def check_prediction_diff_i(predict_diff, test):\n",
    "    predict_diff= predict_diff.cumsum().shift().fillna(0)\n",
    "    predict_base = pd.Series(np.ones(test.shape[0]) * np.log(test['Index'])[0], index = test.index)\n",
    "    predict_log = predict_base.add(predict_diff,fill_value=0)\n",
    "    predict = np.exp(predict_log)\n",
    "\n",
    "    plt.plot(test['Index'], label = \"S&P 900\")\n",
    "    plt.plot(sp500_ind['price'], label = \"S&P 500\")\n",
    "    plt.plot(predict, color = 'red', label = \"Predict\")\n",
    "    \n",
    "    plt.legend(loc= 'best')\n",
    "    plt.title('RMSE: %.4f'% np.sqrt(sum((predict-test['Index'])**2)/len(test['Index'])))\n",
    "    plt.show()"
   ]
  },
  {
   "cell_type": "markdown",
   "metadata": {},
   "source": [
    "#### 8.6.1 AR Model for Index"
   ]
  },
  {
   "cell_type": "code",
   "execution_count": 138,
   "metadata": {},
   "outputs": [
    {
     "data": {
      "application/vnd.jupyter.widget-view+json": {
       "model_id": "bc88a74db439467787d63b82d8749db9",
       "version_major": 2,
       "version_minor": 0
      },
      "text/plain": [
       "HBox(children=(IntProgress(value=0, max=84), HTML(value='')))"
      ]
     },
     "metadata": {},
     "output_type": "display_data"
    },
    {
     "name": "stdout",
     "output_type": "stream",
     "text": [
      "\n"
     ]
    },
    {
     "data": {
      "image/png": "[encoded data removed]",
      "text/plain": [
       "<Figure size 432x288 with 1 Axes>"
      ]
     },
     "metadata": {
      "needs_background": "light"
     },
     "output_type": "display_data"
    }
   ],
   "source": [
    "model_train_i(train_ind, test_ind, p_i, 0)"
   ]
  },
  {
   "cell_type": "markdown",
   "metadata": {},
   "source": [
    "#### 8.6.2 ARIMA Model for Index"
   ]
  },
  {
   "cell_type": "code",
   "execution_count": 140,
   "metadata": {},
   "outputs": [
    {
     "data": {
      "application/vnd.jupyter.widget-view+json": {
       "model_id": "7d3ab5ffcde940f28127e3bd4970bd16",
       "version_major": 2,
       "version_minor": 0
      },
      "text/plain": [
       "HBox(children=(IntProgress(value=0, max=84), HTML(value='')))"
      ]
     },
     "metadata": {},
     "output_type": "display_data"
    },
    {
     "name": "stdout",
     "output_type": "stream",
     "text": [
      "\n"
     ]
    },
    {
     "data": {
      "image/png": "[encoded data removed]",
      "text/plain": [
       "<Figure size 432x288 with 1 Axes>"
      ]
     },
     "metadata": {
      "needs_background": "light"
     },
     "output_type": "display_data"
    }
   ],
   "source": [
    "model_train_i(train_ind, test_ind, p_i, q_i)"
   ]
  },
  {
   "cell_type": "markdown",
   "metadata": {},
   "source": [
    "In conclusion, this is basic model with different parameters tried to find the best RMSE. <br> With every stock, data presents different trend and noise. <br> It is important to tune these parameters and also use different models to understand which is better relatively."
   ]
  }
 ],
 "metadata": {
  "kernelspec": {
   "display_name": "Python 3",
   "language": "python",
   "name": "python3"
  },
  "language_info": {
   "codemirror_mode": {
    "name": "ipython",
    "version": 3
   },
   "file_extension": ".py",
   "mimetype": "text/x-python",
   "name": "python",
   "nbconvert_exporter": "python",
   "pygments_lexer": "ipython3",
   "version": "3.7.3"
  }
 },
 "nbformat": 4,
 "nbformat_minor": 2
}
